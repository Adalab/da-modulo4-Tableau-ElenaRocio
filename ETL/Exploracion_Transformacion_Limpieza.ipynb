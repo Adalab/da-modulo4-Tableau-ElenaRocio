{
 "cells": [
  {
   "cell_type": "markdown",
   "metadata": {},
   "source": [
    "# Airbnb 2023 Madrid"
   ]
  },
  {
   "cell_type": "code",
   "execution_count": 1,
   "metadata": {},
   "outputs": [],
   "source": [
    "import pandas as pd\n",
    "import numpy as np\n",
    "import math\n",
    "from datetime import datetime\n",
    "pd.set_option('display.max_columns', None)"
   ]
  },
  {
   "cell_type": "code",
   "execution_count": 2,
   "metadata": {},
   "outputs": [],
   "source": [
    "# Función para el análisis inicial de los datos facilitados\n",
    "\n",
    "def analisis_inicial(file_path):\n",
    "    # Importamos el fichero origen formato .csv\n",
    "    df = pd.read_csv(file_path, index_col=0)\n",
    "\n",
    "    # Exploramos el título de las columnas\n",
    "    print(\"Título de las columnas:\")\n",
    "    print(df.columns)\n",
    "\n",
    "    # Exploramos el número de duplicados en el DataFrame\n",
    "    num_duplicates = df.duplicated().sum()\n",
    "    print(f\"\\nNúmero de duplicados en el DataFrame: {num_duplicates}\")\n",
    "\n",
    "    # Mostramos las primeras filas del DataFrame\n",
    "    print(df.info())\n",
    "\n",
    "    # Devolvemos el DataFrame creado\n",
    "    return df"
   ]
  },
  {
   "cell_type": "code",
   "execution_count": 3,
   "metadata": {},
   "outputs": [
    {
     "name": "stdout",
     "output_type": "stream",
     "text": [
      "Título de las columnas:\n",
      "Index(['id', 'name', 'host_id', 'host_name', 'neighbourhood_group',\n",
      "       'neighbourhood', 'latitude', 'longitude', 'room_type', 'price',\n",
      "       'minimum_nights', 'number_of_reviews', 'review_score',\n",
      "       'host_listings_count', 'availability_365', 'quarter'],\n",
      "      dtype='object')\n",
      "\n",
      "Número de duplicados en el DataFrame: 4\n",
      "<class 'pandas.core.frame.DataFrame'>\n",
      "Index: 95134 entries, 0 to 95133\n",
      "Data columns (total 16 columns):\n",
      " #   Column               Non-Null Count  Dtype  \n",
      "---  ------               --------------  -----  \n",
      " 0   id                   95134 non-null  float64\n",
      " 1   name                 95130 non-null  object \n",
      " 2   host_id              95134 non-null  int64  \n",
      " 3   host_name            95114 non-null  object \n",
      " 4   neighbourhood_group  95134 non-null  object \n",
      " 5   neighbourhood        95134 non-null  object \n",
      " 6   latitude             95134 non-null  object \n",
      " 7   longitude            95134 non-null  object \n",
      " 8   room_type            95134 non-null  object \n",
      " 9   price                91325 non-null  float64\n",
      " 10  minimum_nights       95134 non-null  int64  \n",
      " 11  number_of_reviews    95134 non-null  int64  \n",
      " 12  review_score         95134 non-null  object \n",
      " 13  host_listings_count  95134 non-null  int64  \n",
      " 14  availability_365     95134 non-null  int64  \n",
      " 15  quarter              95134 non-null  object \n",
      "dtypes: float64(2), int64(5), object(9)\n",
      "memory usage: 12.3+ MB\n",
      "None\n"
     ]
    }
   ],
   "source": [
    "df_raw = analisis_inicial(\"2023_Airbnb_Madrid.csv\")"
   ]
  },
  {
   "cell_type": "code",
   "execution_count": 4,
   "metadata": {},
   "outputs": [],
   "source": [
    "# cambio títulos de las columnas\n",
    "#df_raw = df_raw.rename(columns={'id': 'listing_id'})\n",
    "#df_raw = df_raw.rename(columns={'name': 'listing_name'})"
   ]
  },
  {
   "cell_type": "code",
   "execution_count": 5,
   "metadata": {},
   "outputs": [],
   "source": [
    "# cambio tipo de dato a object\n",
    "df_raw['id'] = df_raw['id'].astype('object')\n",
    "df_raw['host_id'] = df_raw['host_id'].astype('object')\n",
    "\n",
    "# este dato no tiene decimales\n",
    "df_raw['review_score'] = df_raw['review_score'].str.replace(',', '')\n",
    "df_raw['review_score'] = df_raw['review_score'].str.pad(width=1, side='right', fillchar='0')\n",
    "df_raw['review_score'] = df_raw['review_score'].astype('Int64')"
   ]
  },
  {
   "cell_type": "markdown",
   "metadata": {},
   "source": [
    "### latitud y longitud"
   ]
  },
  {
   "cell_type": "code",
   "execution_count": 6,
   "metadata": {},
   "outputs": [],
   "source": [
    "df_raw['latitude'] = df_raw['latitude'].str.replace('.', '')\n",
    "df_raw['longitude'] = df_raw['longitude'].str.replace('.', '')"
   ]
  },
  {
   "cell_type": "code",
   "execution_count": 7,
   "metadata": {},
   "outputs": [],
   "source": [
    "# Añadir ceros al final de los valores en la columna 'latitude' para que todos tengan 6 dígitos\n",
    "df_raw['latitude'] = df_raw['latitude'].str.pad(width=6, side='right', fillchar='0')\n",
    "df_raw['longitude'] = df_raw['longitude'].str.pad(width=6, side='right', fillchar='0')"
   ]
  },
  {
   "cell_type": "code",
   "execution_count": 8,
   "metadata": {},
   "outputs": [],
   "source": [
    "# Truncar los valores en la columnas 'latitude' y 'longitude' para que sólo aparezcan los primeros 6 dígitos\n",
    "df_raw['latitude'] = df_raw['latitude'].str.slice(0, 6)\n",
    "df_raw['longitude'] = df_raw['longitude'].str.slice(0, 6)"
   ]
  },
  {
   "cell_type": "code",
   "execution_count": 9,
   "metadata": {},
   "outputs": [],
   "source": [
    "df_raw['latitude'] = df_raw['latitude'].astype(float)\n",
    "df_raw['longitude'] = df_raw['longitude'].astype(float)"
   ]
  },
  {
   "cell_type": "code",
   "execution_count": 10,
   "metadata": {},
   "outputs": [
    {
     "name": "stdout",
     "output_type": "stream",
     "text": [
      "<class 'pandas.core.frame.DataFrame'>\n",
      "Index: 95134 entries, 0 to 95133\n",
      "Data columns (total 16 columns):\n",
      " #   Column               Non-Null Count  Dtype  \n",
      "---  ------               --------------  -----  \n",
      " 0   id                   95134 non-null  object \n",
      " 1   name                 95130 non-null  object \n",
      " 2   host_id              95134 non-null  object \n",
      " 3   host_name            95114 non-null  object \n",
      " 4   neighbourhood_group  95134 non-null  object \n",
      " 5   neighbourhood        95134 non-null  object \n",
      " 6   latitude             95134 non-null  float64\n",
      " 7   longitude            95134 non-null  float64\n",
      " 8   room_type            95134 non-null  object \n",
      " 9   price                91325 non-null  float64\n",
      " 10  minimum_nights       95134 non-null  int64  \n",
      " 11  number_of_reviews    95134 non-null  int64  \n",
      " 12  review_score         95134 non-null  Int64  \n",
      " 13  host_listings_count  95134 non-null  int64  \n",
      " 14  availability_365     95134 non-null  int64  \n",
      " 15  quarter              95134 non-null  object \n",
      "dtypes: Int64(1), float64(3), int64(4), object(8)\n",
      "memory usage: 12.4+ MB\n"
     ]
    }
   ],
   "source": [
    "df_raw.info()"
   ]
  },
  {
   "cell_type": "code",
   "execution_count": null,
   "metadata": {},
   "outputs": [],
   "source": []
  },
  {
   "cell_type": "code",
   "execution_count": 11,
   "metadata": {},
   "outputs": [],
   "source": [
    "df_raw.to_csv('2023_Madrid_Airbnb_reworked.csv', index=False)"
   ]
  }
 ],
 "metadata": {
  "kernelspec": {
   "display_name": "Python 3",
   "language": "python",
   "name": "python3"
  },
  "language_info": {
   "codemirror_mode": {
    "name": "ipython",
    "version": 3
   },
   "file_extension": ".py",
   "mimetype": "text/x-python",
   "name": "python",
   "nbconvert_exporter": "python",
   "pygments_lexer": "ipython3",
   "version": "3.12.0"
  }
 },
 "nbformat": 4,
 "nbformat_minor": 2
}
